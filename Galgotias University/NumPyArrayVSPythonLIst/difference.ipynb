"""
Difference between Numpy Array and list
*********************************************
1.Datatype Storage
2.Importaing module.
3.Numerical Operation
4.Modification capabilities

"""
import numpy as np
x=np.array([1,2,3,4])
print(x)